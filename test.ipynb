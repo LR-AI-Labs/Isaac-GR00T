{
 "cells": [
  {
   "cell_type": "code",
   "execution_count": 12,
   "metadata": {},
   "outputs": [
    {
     "name": "stdout",
     "output_type": "stream",
     "text": [
      "Initialized dataset robot_sim.PickNPlace with EmbodimentTag.GR1\n",
      "state: (1, 64), float64\n",
      "state_mask: (1, 64), bool\n",
      "segmentation_target: (2,), float64\n",
      "segmentation_target_mask: (1,), float64\n",
      "has_real_action: (), bool\n",
      "action: (16, 32), float64\n",
      "action_mask: (16, 32), bool\n",
      "pixel_values: torch.Size([1, 3, 224, 224]), torch.bfloat16\n",
      "input_ids: torch.Size([1, 99]), torch.int64\n",
      "attention_mask: torch.Size([1, 99]), torch.int64\n",
      "embodiment_id: 24, <class 'int'>\n"
     ]
    }
   ],
   "source": [
    "from gr00t.data.dataset import LeRobotSingleDataset\n",
    "from gr00t.data.embodiment_tags import EmbodimentTag\n",
    "from gr00t.data.dataset import ModalityConfig\n",
    "from gr00t.experiment.data_config import DATA_CONFIG_MAP\n",
    "\n",
    "# get the data config\n",
    "data_config = DATA_CONFIG_MAP[\"gr1_arms_only\"]\n",
    "\n",
    "# get the modality configs and transforms\n",
    "modality_config = data_config.modality_config()\n",
    "transforms = data_config.transform()\n",
    "\n",
    "# This is a LeRobotSingleDataset object that loads the data from the given dataset path.\n",
    "dataset = LeRobotSingleDataset(\n",
    "    dataset_path=\"demo_data/robot_sim.PickNPlace\",\n",
    "    modality_configs=modality_config,\n",
    "    transforms=transforms,  # we can choose to not apply any transforms\n",
    "    embodiment_tag=EmbodimentTag.GR1, # the embodiment to use\n",
    ")\n",
    "\n",
    "# This is an example of how to access the data.\n",
    "data_point = dataset[45]\n",
    "for k, v in data_point.items():\n",
    "    try:\n",
    "        print(f\"{k}: {v.shape}, {v.dtype}\")\n",
    "    except:\n",
    "        print(f\"{k}: {v}, {type(v)}\")"
   ]
  },
  {
   "cell_type": "code",
   "execution_count": 22,
   "metadata": {},
   "outputs": [
    {
     "data": {
      "text/plain": [
       "array([ True,  True,  True,  True,  True,  True,  True,  True,  True,\n",
       "        True,  True,  True,  True,  True,  True,  True,  True,  True,\n",
       "        True,  True,  True,  True,  True,  True,  True,  True,  True,\n",
       "        True,  True,  True,  True,  True,  True,  True,  True,  True,\n",
       "        True,  True,  True,  True,  True,  True,  True,  True,  True,\n",
       "        True,  True,  True,  True,  True,  True,  True, False, False,\n",
       "       False, False, False, False, False, False, False, False, False,\n",
       "       False])"
      ]
     },
     "execution_count": 22,
     "metadata": {},
     "output_type": "execute_result"
    }
   ],
   "source": [
    "data_point['state_mask'][0]"
   ]
  },
  {
   "cell_type": "code",
   "execution_count": 10,
   "metadata": {},
   "outputs": [
    {
     "name": "stdout",
     "output_type": "stream",
     "text": [
      "video.ego_view: (1, 256, 256, 3), uint8\n",
      "state.left_arm: (1, 7), float64\n",
      "state.right_arm: (1, 7), float64\n",
      "state.left_hand: (1, 6), float64\n",
      "state.right_hand: (1, 6), float64\n",
      "action.left_arm: (16, 7), float64\n",
      "action.right_arm: (16, 7), float64\n",
      "action.left_hand: (16, 6), float64\n",
      "action.right_hand: (16, 6), float64\n",
      "annotation.human.action.task_description: ['pick the pear from the counter and place it in the plate'], <class 'list'>\n"
     ]
    }
   ],
   "source": [
    "raw_datapoint = dataset.get_step_data(0, 45)\n",
    "for k, v in raw_datapoint.items():\n",
    "    try:\n",
    "        print(f\"{k}: {v.shape}, {v.dtype}\")\n",
    "    except:\n",
    "        print(f\"{k}: {v}, {type(v)}\")"
   ]
  },
  {
   "cell_type": "code",
   "execution_count": 8,
   "metadata": {},
   "outputs": [
    {
     "name": "stdout",
     "output_type": "stream",
     "text": [
      "Initialized dataset libero10 with EmbodimentTag.NEW_EMBODIMENT\n",
      "state: (1, 64), float64\n",
      "state_mask: (1, 64), bool\n",
      "segmentation_target: (2,), float64\n",
      "segmentation_target_mask: (1,), float64\n",
      "has_real_action: (), bool\n",
      "action: (16, 32), float64\n",
      "action_mask: (16, 32), bool\n",
      "pixel_values: torch.Size([2, 3, 224, 224]), torch.bfloat16\n",
      "input_ids: torch.Size([1, 185]), torch.int64\n",
      "attention_mask: torch.Size([1, 185]), torch.int64\n",
      "embodiment_id: 31, <class 'int'>\n"
     ]
    }
   ],
   "source": [
    "from gr00t.data.dataset import LeRobotSingleDataset\n",
    "from gr00t.data.embodiment_tags import EmbodimentTag\n",
    "from gr00t.data.dataset import ModalityConfig\n",
    "from gr00t.experiment.data_config import DATA_CONFIG_MAP\n",
    "\n",
    "# get the data config\n",
    "data_config = DATA_CONFIG_MAP[\"libero\"]\n",
    "\n",
    "# get the modality configs and transforms\n",
    "modality_config = data_config.modality_config()\n",
    "transforms = data_config.transform()\n",
    "\n",
    "# This is a LeRobotSingleDataset object that loads the data from the given dataset path.\n",
    "dataset = LeRobotSingleDataset(\n",
    "    dataset_path=\"demo_data/libero10\",\n",
    "    modality_configs=modality_config,\n",
    "    transforms=transforms,  # we can choose to not apply any transforms\n",
    "    embodiment_tag=EmbodimentTag.NEW_EMBODIMENT, # the embodiment to use\n",
    "    video_backend=\"torchvision_av\"\n",
    ")\n",
    "\n",
    "# This is an example of how to access the data.\n",
    "data_point = dataset[45]\n",
    "for k, v in data_point.items():\n",
    "    try:\n",
    "        print(f\"{k}: {v.shape}, {v.dtype}\")\n",
    "    except:\n",
    "        print(f\"{k}: {v}, {type(v)}\")"
   ]
  },
  {
   "cell_type": "code",
   "execution_count": 9,
   "metadata": {},
   "outputs": [
    {
     "name": "stdout",
     "output_type": "stream",
     "text": [
      "video.image: (1, 256, 256, 3), uint8\n",
      "video.wrist_image: (1, 256, 256, 3), uint8\n",
      "state.state: (1, 8), float64\n",
      "action.action: (16, 7), float64\n",
      "annotation.human.task_description: ['put the white mug on the left plate and put the yellow and white mug on the right plate'], <class 'list'>\n"
     ]
    }
   ],
   "source": [
    "raw_datapoint = dataset.get_step_data(0, 45)\n",
    "for k, v in raw_datapoint.items():\n",
    "    try:\n",
    "        print(f\"{k}: {v.shape}, {v.dtype}\")\n",
    "    except:\n",
    "        print(f\"{k}: {v}, {type(v)}\")"
   ]
  }
 ],
 "metadata": {
  "kernelspec": {
   "display_name": "gr00t",
   "language": "python",
   "name": "python3"
  },
  "language_info": {
   "codemirror_mode": {
    "name": "ipython",
    "version": 3
   },
   "file_extension": ".py",
   "mimetype": "text/x-python",
   "name": "python",
   "nbconvert_exporter": "python",
   "pygments_lexer": "ipython3",
   "version": "3.10.16"
  }
 },
 "nbformat": 4,
 "nbformat_minor": 2
}
